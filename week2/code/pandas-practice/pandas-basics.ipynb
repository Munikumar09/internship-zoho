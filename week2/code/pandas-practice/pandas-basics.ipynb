{
 "cells": [
  {
   "cell_type": "markdown",
   "metadata": {},
   "source": [
    "Series"
   ]
  },
  {
   "cell_type": "code",
   "execution_count": 27,
   "metadata": {},
   "outputs": [
    {
     "data": {
      "text/plain": [
       "1     NaN\n",
       "2     NaN\n",
       "3     NaN\n",
       "4     9.4\n",
       "5    11.5\n",
       "6    13.6\n",
       "7    15.7\n",
       "8     NaN\n",
       "dtype: float64"
      ]
     },
     "execution_count": 27,
     "metadata": {},
     "output_type": "execute_result"
    }
   ],
   "source": [
    "import pandas as pd\n",
    "import numpy as np\n",
    "list_1=['a','b','c','d','e','f','g','h']\n",
    "label_1=[1,2,3,4,5,6,7,8]\n",
    "ser_1=pd.Series(data=list_1,index=label_1)\n",
    "ser_1\n",
    "np_array_1=np.array([1.1,2.2,3.3,4.4,5.5,6.6,7.7,8.8])\n",
    "ser_2=pd.Series(data=np_array_1,index=label_1)\n",
    "ser_2\n",
    "dict_1={\"f_name\":\"muni\",\n",
    "        \"l_name\":\"kumar\",\n",
    "        \"company\":\"zoho\",\n",
    "        \"age\":21}\n",
    "ser_3=pd.Series(dict_1)\n",
    "ser_3\n",
    "ser_3[\"age\"]\n",
    "ser_1.dtype\n",
    "ser_4=pd.Series({4:5,5:6,6:7,7:8})\n",
    "ser_4+ser_2"
   ]
  },
  {
   "cell_type": "markdown",
   "metadata": {},
   "source": [
    "Data frames"
   ]
  },
  {
   "cell_type": "code",
   "execution_count": 41,
   "metadata": {},
   "outputs": [
    {
     "data": {
      "text/html": [
       "<div>\n",
       "<style scoped>\n",
       "    .dataframe tbody tr th:only-of-type {\n",
       "        vertical-align: middle;\n",
       "    }\n",
       "\n",
       "    .dataframe tbody tr th {\n",
       "        vertical-align: top;\n",
       "    }\n",
       "\n",
       "    .dataframe thead th {\n",
       "        text-align: right;\n",
       "    }\n",
       "</style>\n",
       "<table border=\"1\" class=\"dataframe\">\n",
       "  <thead>\n",
       "    <tr style=\"text-align: right;\">\n",
       "      <th></th>\n",
       "      <th>one</th>\n",
       "      <th>two</th>\n",
       "    </tr>\n",
       "  </thead>\n",
       "  <tbody>\n",
       "    <tr>\n",
       "      <th>a</th>\n",
       "      <td>1</td>\n",
       "      <td>10.0</td>\n",
       "    </tr>\n",
       "    <tr>\n",
       "      <th>b</th>\n",
       "      <td>2</td>\n",
       "      <td>20.0</td>\n",
       "    </tr>\n",
       "    <tr>\n",
       "      <th>c</th>\n",
       "      <td>3</td>\n",
       "      <td>30.0</td>\n",
       "    </tr>\n",
       "    <tr>\n",
       "      <th>d</th>\n",
       "      <td>4</td>\n",
       "      <td>NaN</td>\n",
       "    </tr>\n",
       "  </tbody>\n",
       "</table>\n",
       "</div>"
      ],
      "text/plain": [
       "   one   two\n",
       "a    1  10.0\n",
       "b    2  20.0\n",
       "c    3  30.0\n",
       "d    4   NaN"
      ]
     },
     "execution_count": 41,
     "metadata": {},
     "output_type": "execute_result"
    }
   ],
   "source": [
    "arr_2=np.random.randint(10,50,size=(4,4))\n",
    "arr_2\n",
    "df_1=pd.DataFrame(arr_2,['A','B','C','D'],['W','X','Y','Z'])\n",
    "df_1\n",
    "dict_3={\n",
    "    'one':pd.Series([1,2,3,4],index=['a','b','c','d']),\n",
    "    'two':pd.Series([10,20,30],index=['a','b','c'])\n",
    "}\n",
    "df_2=pd.DataFrame(dict_3)\n",
    "df_2\n",
    "pd.DataFrame.from_dict(dict([\n",
    "    ('A',[1,2,3]),('B',[4,5,6])\n",
    "]),orient='index',columns=['one','two','three'])\n",
    "df_2\n"
   ]
  },
  {
   "cell_type": "markdown",
   "metadata": {},
   "source": [
    "Modifing and accessing data"
   ]
  },
  {
   "cell_type": "code",
   "execution_count": 67,
   "metadata": {},
   "outputs": [
    {
     "name": "stderr",
     "output_type": "stream",
     "text": [
      "/tmp/ipykernel_22976/555291926.py:9: FutureWarning: The frame.append method is deprecated and will be removed from pandas in a future version. Use pandas.concat instead.\n",
      "  df_1=df_1.append(new_row)\n"
     ]
    },
    {
     "data": {
      "text/html": [
       "<div>\n",
       "<style scoped>\n",
       "    .dataframe tbody tr th:only-of-type {\n",
       "        vertical-align: middle;\n",
       "    }\n",
       "\n",
       "    .dataframe tbody tr th {\n",
       "        vertical-align: top;\n",
       "    }\n",
       "\n",
       "    .dataframe thead th {\n",
       "        text-align: right;\n",
       "    }\n",
       "</style>\n",
       "<table border=\"1\" class=\"dataframe\">\n",
       "  <thead>\n",
       "    <tr style=\"text-align: right;\">\n",
       "      <th></th>\n",
       "      <th>W</th>\n",
       "      <th>X</th>\n",
       "      <th>Y</th>\n",
       "      <th>Z</th>\n",
       "    </tr>\n",
       "  </thead>\n",
       "  <tbody>\n",
       "    <tr>\n",
       "      <th>A</th>\n",
       "      <td>11</td>\n",
       "      <td>40</td>\n",
       "      <td>37</td>\n",
       "      <td>47</td>\n",
       "    </tr>\n",
       "    <tr>\n",
       "      <th>B</th>\n",
       "      <td>49</td>\n",
       "      <td>26</td>\n",
       "      <td>33</td>\n",
       "      <td>20</td>\n",
       "    </tr>\n",
       "    <tr>\n",
       "      <th>C</th>\n",
       "      <td>36</td>\n",
       "      <td>38</td>\n",
       "      <td>45</td>\n",
       "      <td>10</td>\n",
       "    </tr>\n",
       "    <tr>\n",
       "      <th>D</th>\n",
       "      <td>37</td>\n",
       "      <td>10</td>\n",
       "      <td>48</td>\n",
       "      <td>26</td>\n",
       "    </tr>\n",
       "  </tbody>\n",
       "</table>\n",
       "</div>"
      ],
      "text/plain": [
       "    W   X   Y   Z\n",
       "A  11  40  37  47\n",
       "B  49  26  33  20\n",
       "C  36  38  45  10\n",
       "D  37  10  48  26"
      ]
     },
     "execution_count": 67,
     "metadata": {},
     "output_type": "execute_result"
    }
   ],
   "source": [
    "df_1[['W','Y']]\n",
    "df_1.loc[['A','B']]\n",
    "df_1.loc[['A','B'],['W','X']]\n",
    "df_1['new']=df_1['W']+df_1['X']+df_1['Y']\n",
    "df_2['mult']=df_2['one']*df_2['two']\n",
    "# Make a new row by appending\n",
    "dict_2={'W':21,'X':33,'Y':31,'Z':43}\n",
    "new_row=pd.Series(dict_2,name='E')\n",
    "df_1=df_1.append(new_row)\n",
    "df_1.drop('new',axis=1,inplace=True)\n",
    "df_1.drop('E',axis=0,inplace=True)\n",
    "df_1\n"
   ]
  }
 ],
 "metadata": {
  "kernelspec": {
   "display_name": "Python 3.10.6 ('streamlit')",
   "language": "python",
   "name": "python3"
  },
  "language_info": {
   "codemirror_mode": {
    "name": "ipython",
    "version": 3
   },
   "file_extension": ".py",
   "mimetype": "text/x-python",
   "name": "python",
   "nbconvert_exporter": "python",
   "pygments_lexer": "ipython3",
   "version": "3.10.6"
  },
  "orig_nbformat": 4,
  "vscode": {
   "interpreter": {
    "hash": "fbecbdcda7dad2014ceca290140df1f08baafdd5bdcd8709ede9859f2d1272c4"
   }
  }
 },
 "nbformat": 4,
 "nbformat_minor": 2
}
