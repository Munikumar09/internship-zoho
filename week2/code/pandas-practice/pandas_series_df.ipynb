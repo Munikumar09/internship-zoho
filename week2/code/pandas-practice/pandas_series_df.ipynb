{
 "cells": [
  {
   "cell_type": "code",
   "execution_count": null,
   "metadata": {},
   "outputs": [],
   "source": [
    "\"\"\"\n",
    "   Series : A panda series is like a column in a table \n",
    "\"\"\"\n",
    "import pandas as pd\n",
    "cars=[\"volvo\",\"BMW\",\"Audi\",\"Honda\",\"Hyndai\",\"Tata\",\"jaguar\"]\n",
    "my_car_series_default_lable=pd.Series(cars)\n",
    "my_car_series_custome_lable=pd.Series(cars,index=[\"sweden\",\"Germany\",\"Germany\",\"Japan\",\"south Korea\",\"India\",\"UK\"])\n",
    "print(my_car_series_default_lable[0])\n",
    "print(my_car_series_default_lable[0:3])\n",
    "print(my_car_series_custome_lable['Japan'])\n",
    "print(my_car_series_custome_lable)\n",
    "print(my_car_series_default_lable)"
   ]
  },
  {
   "cell_type": "code",
   "execution_count": null,
   "metadata": {},
   "outputs": [],
   "source": [
    "\"\"\" \n",
    "Binary operations \n",
    "\"\"\"\n",
    "\n",
    "import pandas as pd\n",
    "first=pd.Series([1,2,3,4,5,6,7,8,9,10,11])\n",
    "second=pd.Series([10,20,30,40,50,60,70,80,90,100,110])\n",
    "# Addition\n",
    "addition=first.add(second,fill_value=0)\n",
    "print(addition)\n",
    "subtraction=first.sub(second,fill_value=0)\n",
    "print(subtraction) \n",
    "print(\"mean: \",addition.mean())"
   ]
  },
  {
   "cell_type": "code",
   "execution_count": null,
   "metadata": {},
   "outputs": [],
   "source": [
    "\"\"\" \n",
    "Conversion operation in series:\n",
    "\"\"\"\n",
    "import pandas as pd\n",
    "nifty=pd.read_csv(\"data/nifty_data.csv\")\n",
    "\n",
    "dtype_before=nifty.dtypes\n",
    "nifty[\"Open\"]=nifty[\"Open\"].astype(int)\n",
    "dtype_after=nifty.dtypes\n",
    "print(dtype_before)\n",
    "print(\"_____________________\")\n",
    "print(dtype_after)\n"
   ]
  },
  {
   "cell_type": "code",
   "execution_count": null,
   "metadata": {},
   "outputs": [],
   "source": [
    "\"\"\"\n",
    "DataFrame: A Pandas DataFrame is a 2 dimensional data structure, \n",
    "like a 2 dimensional array, or a table with rows and columns.\n",
    "\"\"\"\n",
    "import pandas as pd\n",
    "import numpy as np\n",
    "student_marks={\n",
    "    \"name\":[\"muni\",\"phani\",\"lokesh\",\"raj\",\"mohan\"],\n",
    "    \"operating system\":[88,78,83,55,77],\n",
    "    \"computer network\":[77,86,66,54,np.nan],\n",
    "    \"DBMS\":[75,56,55,63,76]\n",
    "}\n",
    "\n",
    "# creating student_marks dataframe\n",
    "marks_dataframe=pd.DataFrame(student_marks)\n",
    "#accessing columns of dataframe\n",
    "print(marks_dataframe[[\"name\",\"operating system\",\"DBMS\"]])\n",
    "# read_csv file as data frame\n",
    "nifty_dataframe=pd.read_csv(\"data/nifty_data.csv\",index_col=\"Date\")\n",
    "print(nifty_dataframe.loc[\"25-Oct-2022\"])\n",
    "print(nifty_dataframe[\"Shares Traded\"])\n",
    "'''Row Selection: Pandas provide a unique method to retrieve rows from a Data frame. \n",
    "DataFrame.loc[] method is used to retrieve rows from Pandas DataFrame.\n",
    "if we want to retrieve one row then it returs the data in the form of series.\n",
    "if we want two or more rows we will get data as dataFrame'''\n",
    "print(marks_dataframe.loc[0])\n",
    "#print(marks_dataframe.loc[[0,1]])\n",
    "print(marks_dataframe.iloc[2])\n",
    "\"\"\" \n",
    "To show missing values we can use .isnull() function, it prints True if value is missing else prints False.\n",
    "\"\"\"\n",
    "print(marks_dataframe.isnull())\n",
    "\"\"\" \n",
    "In order to fill null values in a datasets, we use fillna(), replace() and interpolate() function \n",
    "these function replace NaN values with some value of their own.\n",
    "\"\"\"\n",
    "marks_dataframe.fillna(0)\n",
    "\"\"\" \n",
    "In order to drop a null values from a dataframe, we used dropna() function \n",
    "this fuction drop Rows/Columns of datasets with Null values in different ways.\n",
    "\"\"\"\n",
    "marks_dataframe.dropna()"
   ]
  },
  {
   "cell_type": "code",
   "execution_count": null,
   "metadata": {},
   "outputs": [],
   "source": [
    "\"\"\" \n",
    "Iteration over rows ans columns\n",
    "\"\"\"\n",
    "import pandas as pd\n",
    "import numpy as np\n",
    "student_marks={\n",
    "    \"name\":[\"muni\",\"phani\",\"lokesh\",\"raj\",\"mohan\"],\n",
    "    \"operating system\":[88,78,83,55,77],\n",
    "    \"computer network\":[77,np.nan,66,54,np.nan],\n",
    "    \"DBMS\":[75,56,55,63,76]\n",
    "}\n",
    "marks_df=pd.DataFrame(student_marks)\n",
    "# iterate over rows\n",
    "for row, val in marks_df.iterrows():\n",
    "    print(row, val)\n",
    "    print()\n",
    "# iterate over columns\n",
    "columns=list(marks_df)\n",
    "print(columns)\n",
    "for i in columns:\n",
    "    print(marks_df[i])"
   ]
  }
 ],
 "metadata": {
  "kernelspec": {
   "display_name": "Python 3.10.6 ('streamlit')",
   "language": "python",
   "name": "python3"
  },
  "language_info": {
   "codemirror_mode": {
    "name": "ipython",
    "version": 3
   },
   "file_extension": ".py",
   "mimetype": "text/x-python",
   "name": "python",
   "nbconvert_exporter": "python",
   "pygments_lexer": "ipython3",
   "version": "3.10.6"
  },
  "orig_nbformat": 4,
  "vscode": {
   "interpreter": {
    "hash": "fbecbdcda7dad2014ceca290140df1f08baafdd5bdcd8709ede9859f2d1272c4"
   }
  }
 },
 "nbformat": 4,
 "nbformat_minor": 2
}
